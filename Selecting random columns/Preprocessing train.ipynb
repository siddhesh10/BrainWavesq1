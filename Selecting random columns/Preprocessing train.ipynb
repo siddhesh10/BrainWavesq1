{
 "cells": [
  {
   "cell_type": "code",
   "execution_count": 61,
   "metadata": {},
   "outputs": [],
   "source": [
    "import pandas as pd\n",
    "import numpy as np\n",
    "import matplotlib.pyplot as plt\n",
    "import seaborn as sns\n",
    "import nltk\n",
    "%matplotlib inline"
   ]
  },
  {
   "cell_type": "code",
   "execution_count": 62,
   "metadata": {},
   "outputs": [
    {
     "name": "stdout",
     "output_type": "stream",
     "text": [
      "43266\n"
     ]
    }
   ],
   "source": [
    "df=pd.read_csv('train.csv')\n",
    "print(len(df))"
   ]
  },
  {
   "cell_type": "code",
   "execution_count": 63,
   "metadata": {},
   "outputs": [
    {
     "data": {
      "text/plain": [
       "<matplotlib.axes._subplots.AxesSubplot at 0xb4e6066d8>"
      ]
     },
     "execution_count": 63,
     "metadata": {},
     "output_type": "execute_result"
    },
    {
     "data": {
      "image/png": "[encoded data removed]",
      "text/plain": [
       "<Figure size 432x288 with 1 Axes>"
      ]
     },
     "metadata": {},
     "output_type": "display_data"
    }
   ],
   "source": [
    "sns.heatmap(df.isnull(), cbar=False)"
   ]
  },
  {
   "cell_type": "code",
   "execution_count": 64,
   "metadata": {},
   "outputs": [],
   "source": [
    "from collections import defaultdict\n",
    "labels_counts= defaultdict(int)\n",
    "for labels in df['Complaint-Status']:\n",
    "    labels_counts[labels] += 1   "
   ]
  },
  {
   "cell_type": "code",
   "execution_count": 65,
   "metadata": {},
   "outputs": [
    {
     "name": "stdout",
     "output_type": "stream",
     "text": [
      "Closed with explanation 34300\n",
      "Closed with non-monetary relief 5018\n",
      "Closed 809\n",
      "Closed with monetary relief 2818\n",
      "Untimely response 321\n"
     ]
    }
   ],
   "source": [
    "for i in labels_counts:\n",
    "    print(i,labels_counts[i])"
   ]
  },
  {
   "cell_type": "code",
   "execution_count": 66,
   "metadata": {},
   "outputs": [],
   "source": [
    "df1=df.loc[df['Complaint-Status'] == 'Closed with explanation']\n",
    "df2=df.loc[df['Complaint-Status'] == 'Closed with non-monetary relief']\n",
    "df3=df.loc[df['Complaint-Status'] == 'Closed']\n",
    "df4=df.loc[df['Complaint-Status'] == 'Closed with monetary relief']\n",
    "df5=df.loc[df['Complaint-Status'] == 'Untimely response']"
   ]
  },
  {
   "cell_type": "code",
   "execution_count": 67,
   "metadata": {},
   "outputs": [],
   "source": [
    "df1=df1.dropna()\n",
    "#df2=df2.dropna()\n",
    "#df3=df3.dropna()\n",
    "#df4=df4.dropna()"
   ]
  },
  {
   "cell_type": "code",
   "execution_count": 68,
   "metadata": {},
   "outputs": [
    {
     "name": "stdout",
     "output_type": "stream",
     "text": [
      "12570\n",
      "5018\n"
     ]
    }
   ],
   "source": [
    "print(len(df1))\n",
    "print(len(df2))"
   ]
  },
  {
   "cell_type": "code",
   "execution_count": 69,
   "metadata": {},
   "outputs": [],
   "source": [
    "df1=df1.take(np.random.permutation(len(df1))[:10000])\n",
    "#df2=df2.take(np.random.permutation(len(df2))[:500])\n",
    "#df4=df4.take(np.random.permutation(len(df3))[:500])"
   ]
  },
  {
   "cell_type": "code",
   "execution_count": 70,
   "metadata": {},
   "outputs": [],
   "source": [
    "df2=df2.fillna('the')\n",
    "df3=df3.fillna('the')\n",
    "df4=df4.fillna('the')\n",
    "df5=df5.fillna('the')"
   ]
  },
  {
   "cell_type": "code",
   "execution_count": 71,
   "metadata": {},
   "outputs": [],
   "source": [
    "frames = [df1, df2, df3, df4, df5]"
   ]
  },
  {
   "cell_type": "code",
   "execution_count": 72,
   "metadata": {},
   "outputs": [],
   "source": [
    "final_df=pd.concat(frames)"
   ]
  },
  {
   "cell_type": "code",
   "execution_count": 73,
   "metadata": {},
   "outputs": [
    {
     "data": {
      "text/plain": [
       "Complaint-ID                  object\n",
       "Date-received                 object\n",
       "Transaction-Type              object\n",
       "Complaint-reason              object\n",
       "Company-response              object\n",
       "Date-sent-to-company          object\n",
       "Complaint-Status              object\n",
       "Consumer-disputes             object\n",
       "Consumer-complaint-summary    object\n",
       "dtype: object"
      ]
     },
     "execution_count": 73,
     "metadata": {},
     "output_type": "execute_result"
    }
   ],
   "source": [
    "final_df.dtypes"
   ]
  },
  {
   "cell_type": "code",
   "execution_count": 74,
   "metadata": {},
   "outputs": [],
   "source": [
    "final_df = final_df.applymap(str)"
   ]
  },
  {
   "cell_type": "code",
   "execution_count": 75,
   "metadata": {},
   "outputs": [
    {
     "data": {
      "text/plain": [
       "Complaint-ID                  object\n",
       "Date-received                 object\n",
       "Transaction-Type              object\n",
       "Complaint-reason              object\n",
       "Company-response              object\n",
       "Date-sent-to-company          object\n",
       "Complaint-Status              object\n",
       "Consumer-disputes             object\n",
       "Consumer-complaint-summary    object\n",
       "dtype: object"
      ]
     },
     "execution_count": 75,
     "metadata": {},
     "output_type": "execute_result"
    }
   ],
   "source": [
    "final_df.dtypes"
   ]
  },
  {
   "cell_type": "code",
   "execution_count": 76,
   "metadata": {},
   "outputs": [
    {
     "data": {
      "text/plain": [
       "Index(['Complaint-ID', 'Date-received', 'Transaction-Type', 'Complaint-reason',\n",
       "       'Company-response', 'Date-sent-to-company', 'Complaint-Status',\n",
       "       'Consumer-disputes', 'Consumer-complaint-summary'],\n",
       "      dtype='object')"
      ]
     },
     "execution_count": 76,
     "metadata": {},
     "output_type": "execute_result"
    }
   ],
   "source": [
    "final_df.columns"
   ]
  },
  {
   "cell_type": "code",
   "execution_count": 77,
   "metadata": {},
   "outputs": [],
   "source": [
    "final_df['new'] = final_df[[ 'Transaction-Type', 'Complaint-reason','Company-response', 'Consumer-complaint-summary']].apply(lambda x: ' '.join(x), axis=1)"
   ]
  },
  {
   "cell_type": "code",
   "execution_count": 78,
   "metadata": {},
   "outputs": [
    {
     "data": {
      "text/plain": [
       "6106     Debt collection Cont'd attempts collect debt n...\n",
       "11940    Consumer Loan Managing the loan or lease Compa...\n",
       "11014    Bank account or service Deposits and withdrawa...\n",
       "7962     Debt collection Improper contact or sharing of...\n",
       "16055    Consumer Loan Taking out the loan or lease Com...\n",
       "Name: new, dtype: object"
      ]
     },
     "execution_count": 78,
     "metadata": {},
     "output_type": "execute_result"
    }
   ],
   "source": [
    "final_df['new'].head()"
   ]
  },
  {
   "cell_type": "code",
   "execution_count": 79,
   "metadata": {},
   "outputs": [],
   "source": [
    "from nltk.corpus import stopwords\n",
    "STOPWORDS = list(stopwords.words('english')) + list(stopwords.words('spanish')) + list(stopwords.words('french'))\n"
   ]
  },
  {
   "cell_type": "code",
   "execution_count": 80,
   "metadata": {},
   "outputs": [],
   "source": [
    "import re\n",
    "import string\n",
    "from nltk.corpus import stopwords\n",
    "from nltk.stem import WordNetLemmatizer\n",
    "\n",
    "BAD_SYMBOLS_RE = re.compile('[^0-9a-z #+_]')\n",
    "REPLACE_BY_SPACE_RE = re.compile('[/(){}\\[\\]\\|@,;]')\n",
    "\n",
    "lemmatizer = WordNetLemmatizer()\n",
    "def text_prepare(row):\n",
    "    lemmatized_words=[]\n",
    "    text=row['new']\n",
    "    # 1. Lowercase text\n",
    "    text = text.lower() \n",
    "    # 2. Replace '/', '()', '{}', '[]', '|', '@', ',', ';' by space\n",
    "    text = REPLACE_BY_SPACE_RE.sub(' ',text)\n",
    "    # 4. Delete stopwords\n",
    "    text = BAD_SYMBOLS_RE.sub('',text)\n",
    "    text_words = text.split()\n",
    "    text_words = [t for t in text_words if t not in STOPWORDS]\n",
    "    \n",
    "    for i in text_words:\n",
    "         lemmatized_words.append(lemmatizer.lemmatize(i))\n",
    "        \n",
    "        \n",
    "    \n",
    "    \n",
    "    text = ' '.join(lemmatized_words)\n",
    "    return text"
   ]
  },
  {
   "cell_type": "code",
   "execution_count": 81,
   "metadata": {},
   "outputs": [],
   "source": [
    "final_df['new'] = final_df.apply (lambda row: text_prepare(row),axis=1)"
   ]
  },
  {
   "cell_type": "code",
   "execution_count": 82,
   "metadata": {},
   "outputs": [],
   "source": [
    "final_df.index = np.arange(0,len(final_df))"
   ]
  },
  {
   "cell_type": "code",
   "execution_count": 83,
   "metadata": {},
   "outputs": [
    {
     "name": "stdout",
     "output_type": "stream",
     "text": [
      "18966\n"
     ]
    }
   ],
   "source": [
    "print(len(final_df))"
   ]
  },
  {
   "cell_type": "code",
   "execution_count": 84,
   "metadata": {},
   "outputs": [
    {
     "name": "stdout",
     "output_type": "stream",
     "text": [
      "15018\n"
     ]
    }
   ],
   "source": [
    "c=0\n",
    "for i in final_df['Complaint-Status']:\n",
    "    if i=='Closed':\n",
    "            print(c)\n",
    "            c=c+1\n",
    "            break\n",
    "    c=c+1"
   ]
  },
  {
   "cell_type": "code",
   "execution_count": 85,
   "metadata": {},
   "outputs": [
    {
     "name": "stdout",
     "output_type": "stream",
     "text": [
      "Closed with non-monetary relief\n",
      "Closed with explanation\n",
      "Untimely response\n",
      "Closed with monetary relief\n",
      "Closed\n",
      "18966\n"
     ]
    }
   ],
   "source": [
    "#Closed with non-monetary relief\n",
    "print(final_df['Complaint-Status'][10100])\n",
    "\n",
    "#Closed with explanation\n",
    "print(final_df['Complaint-Status'][1])\n",
    "\n",
    "#Untimely response\n",
    "print(final_df['Complaint-Status'][18965])\n",
    "\n",
    "#Closed with monetary relief\n",
    "print(final_df['Complaint-Status'][17300])\n",
    "\n",
    "#Closed\n",
    "print(final_df['Complaint-Status'][15018])\n",
    "\n",
    "print(len(final_df))"
   ]
  },
  {
   "cell_type": "code",
   "execution_count": 86,
   "metadata": {},
   "outputs": [],
   "source": [
    "from sklearn import preprocessing\n",
    "le = preprocessing.LabelEncoder()\n",
    "final_df['Complaint-Status'] = le.fit_transform(final_df['Complaint-Status'])"
   ]
  },
  {
   "cell_type": "code",
   "execution_count": 87,
   "metadata": {},
   "outputs": [
    {
     "name": "stdout",
     "output_type": "stream",
     "text": [
      "3\n",
      "1\n",
      "4\n",
      "2\n",
      "0\n",
      "18966\n"
     ]
    }
   ],
   "source": [
    "#Closed with non-monetary relief\n",
    "print(final_df['Complaint-Status'][10100])\n",
    "\n",
    "#Closed with explanation\n",
    "print(final_df['Complaint-Status'][1])\n",
    "\n",
    "#Untimely response\n",
    "print(final_df['Complaint-Status'][18965])\n",
    "\n",
    "#Closed with monetary relief\n",
    "print(final_df['Complaint-Status'][17300])\n",
    "\n",
    "#Closed\n",
    "print(final_df['Complaint-Status'][15018])\n",
    "\n",
    "print(len(final_df))"
   ]
  },
  {
   "cell_type": "code",
   "execution_count": 88,
   "metadata": {},
   "outputs": [],
   "source": [
    "final_df=final_df[['new','Complaint-Status']]"
   ]
  },
  {
   "cell_type": "code",
   "execution_count": 89,
   "metadata": {},
   "outputs": [],
   "source": [
    "final_df.to_csv('Updated_train.csv', sep=',')"
   ]
  },
  {
   "cell_type": "code",
   "execution_count": null,
   "metadata": {},
   "outputs": [],
   "source": []
  }
 ],
 "metadata": {
  "kernelspec": {
   "display_name": "Python 3",
   "language": "python",
   "name": "python3"
  },
  "language_info": {
   "codemirror_mode": {
    "name": "ipython",
    "version": 3
   },
   "file_extension": ".py",
   "mimetype": "text/x-python",
   "name": "python",
   "nbconvert_exporter": "python",
   "pygments_lexer": "ipython3",
   "version": "3.6.5"
  }
 },
 "nbformat": 4,
 "nbformat_minor": 2
}
